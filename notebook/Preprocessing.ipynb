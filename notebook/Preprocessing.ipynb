{
 "cells": [
  {
   "cell_type": "markdown",
   "metadata": {},
   "source": [
    "## Preprocessing"
   ]
  },
  {
   "cell_type": "code",
   "execution_count": 1,
   "metadata": {},
   "outputs": [],
   "source": [
    "import os\n",
    "os.chdir(\"../\")"
   ]
  },
  {
   "cell_type": "code",
   "execution_count": 2,
   "metadata": {},
   "outputs": [
    {
     "name": "stdout",
     "output_type": "stream",
     "text": [
      "Icon?           README.md       \u001b[34mdeepscreening\u001b[m\u001b[m   \u001b[34mimage\u001b[m\u001b[m           \u001b[34mnotebook\u001b[m\u001b[m\r\n",
      "LICENSE         \u001b[34mdata\u001b[m\u001b[m            environment.yml \u001b[34mmodel\u001b[m\u001b[m           train.py\r\n"
     ]
    }
   ],
   "source": [
    "! ls"
   ]
  },
  {
   "cell_type": "markdown",
   "metadata": {},
   "source": [
    "#### data for ChemVAE"
   ]
  },
  {
   "cell_type": "markdown",
   "metadata": {},
   "source": [
    "```sh\n",
    "$ tree data\n",
    "data\n",
    "├── 250k_rndm_zinc_drugs_clean_3.csv\n",
    "├── idx2smiles.json\n",
    "├── test_data\n",
    "│   ├── test_chemvae_logit.npy\n",
    "│   ├── test_chemvae_reg.npy\n",
    "│   └── test_smiles.npy\n",
    "└── train_data\n",
    "    ├── train_chemvae_logit.npy\n",
    "    ├── train_chemvae_reg.npy\n",
    "    └── train_smiles.npy\n",
    "```"
   ]
  },
  {
   "cell_type": "code",
   "execution_count": 6,
   "metadata": {},
   "outputs": [],
   "source": [
    "import json\n",
    "import numpy as np\n",
    "import pandas as pd\n",
    "from deepscreening.utils import smiles2onehot\n",
    "from kerasy.utils import train_test_split\n",
    "from kerasy.utils import disp_val_shapes"
   ]
  },
  {
   "cell_type": "code",
   "execution_count": 7,
   "metadata": {},
   "outputs": [
    {
     "name": "stdout",
     "output_type": "stream",
     "text": [
      "#=== ARRAY SHAPES ===\n",
      "x_train.shape      : (199564, 109, 35)\n",
      "y_reg_train.shape  : (199564, 2)\n",
      "y_logit_train.shape: (199564, 1)\n",
      "x_test.shape       : (49891, 109, 35)\n",
      "y_reg_test.shape   : (49891, 2)\n",
      "y_logit_test.shape : (49891, 1)\n"
     ]
    }
   ],
   "source": [
    "df = pd.read_csv(\"data/250k_rndm_zinc_drugs_clean_3.csv\")\n",
    "smiles  = df.smiles.values\n",
    "y_reg   = df[[\"logP\", \"SAS\"]].values\n",
    "y_logit = df[[\"qed\"]].values\n",
    "X, idx2smiles = smiles2onehot(smiles, return_meta=True)\n",
    "\n",
    "with open(\"data/idx2smiles.json\", mode='w') as f:\n",
    "    json.dump(idx2smiles, f)\n",
    "\n",
    "(x_train,x_test),(y_reg_train, y_reg_test),(y_logit_train, y_logit_test) = train_test_split(X, y_reg, y_logit, random_state=0, test_size=0.2)\n",
    "\n",
    "np.save(\"data/train_data/train_smiles.npy\",        x_train)\n",
    "np.save(\"data/train_data/train_chemvae_reg.npy\",   y_reg_train)\n",
    "np.save(\"data/train_data/train_chemvae_logit.npy\", y_logit_train)\n",
    "np.save(\"data/test_data/test_smiles.npy\",          x_test)\n",
    "np.save(\"data/test_data/test_chemvae_reg.npy\",     y_reg_test)\n",
    "np.save(\"data/test_data/test_chemvae_logit.npy\",   y_logit_test)\n",
    "\n",
    "disp_val_shapes(x_train, y_reg_train, y_logit_train, x_test, y_reg_test, y_logit_test, scope_=locals())"
   ]
  },
  {
   "cell_type": "markdown",
   "metadata": {},
   "source": [
    "#### data for DeepBind"
   ]
  },
  {
   "cell_type": "markdown",
   "metadata": {},
   "source": [
    "```sh\n",
    "$ tree data\n",
    "data\n",
    "├── 250k_rndm_zinc_drugs_clean_3.csv\n",
    "├── idx2smiles.json\n",
    "├── test_data\n",
    "│   ├── test_chemvae_logit.npy\n",
    "│   ├── test_chemvae_reg.npy\n",
    "│   └── test_smiles.npy\n",
    "└── train_data\n",
    "    ├── train_chemvae_logit.npy\n",
    "    ├── train_chemvae_reg.npy\n",
    "    └── train_smiles.npy\n",
    "```"
   ]
  },
  {
   "cell_type": "code",
   "execution_count": null,
   "metadata": {},
   "outputs": [],
   "source": []
  }
 ],
 "metadata": {
  "hide_input": false,
  "kernelspec": {
   "display_name": "deep-screening",
   "language": "python",
   "name": "deep-screening"
  },
  "language_info": {
   "codemirror_mode": {
    "name": "ipython",
    "version": 3
   },
   "file_extension": ".py",
   "mimetype": "text/x-python",
   "name": "python",
   "nbconvert_exporter": "python",
   "pygments_lexer": "ipython3",
   "version": "3.6.10"
  }
 },
 "nbformat": 4,
 "nbformat_minor": 2
}
