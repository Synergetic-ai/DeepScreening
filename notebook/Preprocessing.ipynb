{
 "cells": [
  {
   "cell_type": "markdown",
   "metadata": {},
   "source": [
    "## Preprocessing"
   ]
  },
  {
   "cell_type": "code",
   "execution_count": 1,
   "metadata": {},
   "outputs": [],
   "source": [
    "import os\n",
    "os.chdir(\"../\")"
   ]
  },
  {
   "cell_type": "code",
   "execution_count": 2,
   "metadata": {},
   "outputs": [
    {
     "name": "stdout",
     "output_type": "stream",
     "text": [
      "Icon?                create_new_params.py \u001b[34mimage\u001b[m\u001b[m\r\n",
      "LICENSE              \u001b[34mdata\u001b[m\u001b[m                 \u001b[34mmodel\u001b[m\u001b[m\r\n",
      "README.md            \u001b[34mdeepscreening\u001b[m\u001b[m        \u001b[34mnotebook\u001b[m\u001b[m\r\n",
      "Untitled.ipynb       environment.yml      train.py\r\n"
     ]
    }
   ],
   "source": [
    "! ls"
   ]
  },
  {
   "cell_type": "markdown",
   "metadata": {},
   "source": [
    "#### data for ChemVAE"
   ]
  },
  {
   "cell_type": "markdown",
   "metadata": {},
   "source": [
    "```sh\n",
    "$ tree data\n",
    "data\n",
    "├── 250k_rndm_zinc_drugs_clean_3.csv\n",
    "├── idx2smiles.json\n",
    "├── test_data\n",
    "│   ├── test_chemvae_logit.npy\n",
    "│   ├── test_chemvae_reg.npy\n",
    "│   └── test_smiles.npy\n",
    "└── train_data\n",
    "    ├── train_chemvae_logit.npy\n",
    "    ├── train_chemvae_reg.npy\n",
    "    └── train_smiles.npy\n",
    "```"
   ]
  },
  {
   "cell_type": "code",
   "execution_count": 3,
   "metadata": {},
   "outputs": [
    {
     "name": "stderr",
     "output_type": "stream",
     "text": [
      "Using TensorFlow backend.\n",
      "/Users/iwasakishuto/.pyenv/versions/anaconda3-5.0.1/envs/deep-screening/lib/python3.6/site-packages/tensorflow/python/framework/dtypes.py:526: FutureWarning: Passing (type, 1) or '1type' as a synonym of type is deprecated; in a future version of numpy, it will be understood as (type, (1,)) / '(1,)type'.\n",
      "  _np_qint8 = np.dtype([(\"qint8\", np.int8, 1)])\n",
      "/Users/iwasakishuto/.pyenv/versions/anaconda3-5.0.1/envs/deep-screening/lib/python3.6/site-packages/tensorflow/python/framework/dtypes.py:527: FutureWarning: Passing (type, 1) or '1type' as a synonym of type is deprecated; in a future version of numpy, it will be understood as (type, (1,)) / '(1,)type'.\n",
      "  _np_quint8 = np.dtype([(\"quint8\", np.uint8, 1)])\n",
      "/Users/iwasakishuto/.pyenv/versions/anaconda3-5.0.1/envs/deep-screening/lib/python3.6/site-packages/tensorflow/python/framework/dtypes.py:528: FutureWarning: Passing (type, 1) or '1type' as a synonym of type is deprecated; in a future version of numpy, it will be understood as (type, (1,)) / '(1,)type'.\n",
      "  _np_qint16 = np.dtype([(\"qint16\", np.int16, 1)])\n",
      "/Users/iwasakishuto/.pyenv/versions/anaconda3-5.0.1/envs/deep-screening/lib/python3.6/site-packages/tensorflow/python/framework/dtypes.py:529: FutureWarning: Passing (type, 1) or '1type' as a synonym of type is deprecated; in a future version of numpy, it will be understood as (type, (1,)) / '(1,)type'.\n",
      "  _np_quint16 = np.dtype([(\"quint16\", np.uint16, 1)])\n",
      "/Users/iwasakishuto/.pyenv/versions/anaconda3-5.0.1/envs/deep-screening/lib/python3.6/site-packages/tensorflow/python/framework/dtypes.py:530: FutureWarning: Passing (type, 1) or '1type' as a synonym of type is deprecated; in a future version of numpy, it will be understood as (type, (1,)) / '(1,)type'.\n",
      "  _np_qint32 = np.dtype([(\"qint32\", np.int32, 1)])\n",
      "/Users/iwasakishuto/.pyenv/versions/anaconda3-5.0.1/envs/deep-screening/lib/python3.6/site-packages/tensorflow/python/framework/dtypes.py:535: FutureWarning: Passing (type, 1) or '1type' as a synonym of type is deprecated; in a future version of numpy, it will be understood as (type, (1,)) / '(1,)type'.\n",
      "  np_resource = np.dtype([(\"resource\", np.ubyte, 1)])\n"
     ]
    }
   ],
   "source": [
    "import json\n",
    "import numpy as np\n",
    "import pandas as pd\n",
    "from deepscreening.utils import smiles2onehot\n",
    "from kerasy.utils import train_test_split\n",
    "from kerasy.utils import disp_val_shapes"
   ]
  },
  {
   "cell_type": "code",
   "execution_count": 4,
   "metadata": {},
   "outputs": [
    {
     "name": "stdout",
     "output_type": "stream",
     "text": [
      "#=== ARRAY SHAPES ===\n",
      "x_train.shape      : (159651, 109, 35)\n",
      "y_reg_train.shape  : (159651, 2)\n",
      "y_logit_train.shape: (159651, 1)\n",
      "x_val.shape        : (39913, 109, 35)\n",
      "y_reg_val.shape    : (39913, 2)\n",
      "y_logit_val.shape  : (39913, 1)\n",
      "x_test.shape       : (49891, 109, 35)\n",
      "y_reg_test.shape   : (49891, 2)\n",
      "y_logit_test.shape : (49891, 1)\n"
     ]
    }
   ],
   "source": [
    "df = pd.read_csv(\"data/250k_rndm_zinc_drugs_clean_3.csv\")\n",
    "smiles  = df.smiles.values\n",
    "y_reg   = df[[\"logP\", \"SAS\"]].values\n",
    "y_logit = df[[\"qed\"]].values\n",
    "x, idx2smiles = smiles2onehot(smiles, return_meta=True)\n",
    "\n",
    "with open(\"data/idx2smiles.json\", mode='w') as f:\n",
    "    json.dump(idx2smiles, f)\n",
    "\n",
    "(x_obs,x_test),(y_reg_obs, y_reg_test),(y_logit_obs, y_logit_test) = train_test_split(x, y_reg, y_logit, random_state=0, test_size=0.2)\n",
    "\n",
    "(x_train,x_val),(y_reg_train, y_reg_val),(y_logit_train, y_logit_val) = train_test_split(x_obs, y_reg_obs, y_logit_obs, random_state=0, test_size=0.2)\n",
    "\n",
    "\n",
    "np.save(\"data/train_data/x_train_smiles.npy\",        x_train)\n",
    "np.save(\"data/train_data/y_train_chemvae_reg.npy\",   y_reg_train)\n",
    "np.save(\"data/train_data/y_train_chemvae_logit.npy\", y_logit_train)\n",
    "np.save(\"data/train_data/x_val_smiles.npy\",          x_val)\n",
    "np.save(\"data/train_data/y_val_chemvae_reg.npy\",     y_reg_val)\n",
    "np.save(\"data/train_data/y_val_chemvae_logit.npy\",   y_logit_val)\n",
    "np.save(\"data/test_data/x_test_smiles.npy\",          x_test)\n",
    "np.save(\"data/test_data/y_test_chemvae_reg.npy\",     y_reg_test)\n",
    "np.save(\"data/test_data/y_test_chemvae_logit.npy\",   y_logit_test)\n",
    "\n",
    "disp_val_shapes(\n",
    "    x_train, y_reg_train, y_logit_train, \n",
    "    x_val,   y_reg_val,   y_logit_val,\n",
    "    x_test,  y_reg_test,  y_logit_test, \n",
    "    scope_=locals()\n",
    ")"
   ]
  },
  {
   "cell_type": "markdown",
   "metadata": {},
   "source": [
    "#### data for DeepBind"
   ]
  },
  {
   "cell_type": "markdown",
   "metadata": {},
   "source": [
    "```sh\n",
    "$ tree data\n",
    "data\n",
    "├── 250k_rndm_zinc_drugs_clean_3.csv\n",
    "├── idx2smiles.json\n",
    "├── test_data\n",
    "│   ├── test_chemvae_logit.npy\n",
    "│   ├── test_chemvae_reg.npy\n",
    "│   └── test_smiles.npy\n",
    "└── train_data\n",
    "    ├── train_chemvae_logit.npy\n",
    "    ├── train_chemvae_reg.npy\n",
    "    └── train_smiles.npy\n",
    "```"
   ]
  },
  {
   "cell_type": "code",
   "execution_count": null,
   "metadata": {},
   "outputs": [],
   "source": []
  }
 ],
 "metadata": {
  "hide_input": false,
  "kernelspec": {
   "display_name": "deep-screening",
   "language": "python",
   "name": "deep-screening"
  },
  "language_info": {
   "codemirror_mode": {
    "name": "ipython",
    "version": 3
   },
   "file_extension": ".py",
   "mimetype": "text/x-python",
   "name": "python",
   "nbconvert_exporter": "python",
   "pygments_lexer": "ipython3",
   "version": "3.6.10"
  }
 },
 "nbformat": 4,
 "nbformat_minor": 2
}
